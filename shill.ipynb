{
  "cells": [
    {
      "cell_type": "code",
      "execution_count": 43,
      "metadata": {
        "id": "W7IHGaIPELqz"
      },
      "outputs": [],
      "source": [
        "import pandas as pd\n",
        "import numpy as np\n",
        "import matplotlib.pyplot as plt\n",
        "%matplotlib inline"
      ]
    },
    {
      "cell_type": "code",
      "execution_count": 44,
      "metadata": {
        "colab": {
          "base_uri": "https://localhost:8080/"
        },
        "id": "-PiqZM-SEcLc",
        "outputId": "2c35cad2-cc4e-4e5e-f098-b336bcc0c76c"
      },
      "outputs": [
        {
          "output_type": "stream",
          "name": "stdout",
          "text": [
            "Drive already mounted at /content/drive; to attempt to forcibly remount, call drive.mount(\"/content/drive\", force_remount=True).\n"
          ]
        }
      ],
      "source": [
        "from google.colab import drive\n",
        "drive.mount('/content/drive')"
      ]
    },
    {
      "cell_type": "code",
      "execution_count": 45,
      "metadata": {
        "id": "yEz9I21SEnnp"
      },
      "outputs": [],
      "source": [
        "data=pd.read_csv('/content/Shill Bidding Dataset (1).csv')"
      ]
    },
    {
      "cell_type": "code",
      "execution_count": 46,
      "metadata": {
        "colab": {
          "base_uri": "https://localhost:8080/"
        },
        "id": "bV0pa4tRE6GR",
        "outputId": "6358e114-8fb4-4dec-ae85-3cdb1e71f08d"
      },
      "outputs": [
        {
          "output_type": "stream",
          "name": "stdout",
          "text": [
            "      Record_ID  Auction_ID  Bidder_Tendency  Bidding_Ratio  \\\n",
            "0             1         732         0.200000       0.400000   \n",
            "1             2         732         0.024390       0.200000   \n",
            "2             3         732         0.142857       0.200000   \n",
            "3             4         732         0.100000       0.200000   \n",
            "4             5         900         0.051282       0.222222   \n",
            "...         ...         ...              ...            ...   \n",
            "6316      15129         760         0.333333       0.160000   \n",
            "6317      15137        2481         0.030612       0.130435   \n",
            "6318      15138        2481         0.055556       0.043478   \n",
            "6319      15139        2481         0.076923       0.086957   \n",
            "6320      15144        2481         0.016393       0.043478   \n",
            "\n",
            "      Successive_Outbidding  Last_Bidding  Auction_Bids  \\\n",
            "0                       0.0      0.000028      0.000000   \n",
            "1                       0.0      0.013123      0.000000   \n",
            "2                       0.0      0.003042      0.000000   \n",
            "3                       0.0      0.097477      0.000000   \n",
            "4                       0.0      0.001318      0.000000   \n",
            "...                     ...           ...           ...   \n",
            "6316                    1.0      0.738557      0.280000   \n",
            "6317                    0.0      0.005754      0.217391   \n",
            "6318                    0.0      0.015663      0.217391   \n",
            "6319                    0.0      0.068694      0.217391   \n",
            "6320                    0.0      0.340351      0.217391   \n",
            "\n",
            "      Starting_Price_Average  Early_Bidding  Winning_Ratio  Auction_Duration  \\\n",
            "0                   0.993593       0.000028       0.666667                 5   \n",
            "1                   0.993593       0.013123       0.944444                 5   \n",
            "2                   0.993593       0.003042       1.000000                 5   \n",
            "3                   0.993593       0.097477       1.000000                 5   \n",
            "4                   0.000000       0.001242       0.500000                 7   \n",
            "...                      ...            ...            ...               ...   \n",
            "6316                0.993593       0.686358       0.888889                 3   \n",
            "6317                0.993593       0.000010       0.878788                 7   \n",
            "6318                0.993593       0.015663       0.000000                 7   \n",
            "6319                0.993593       0.000415       0.000000                 7   \n",
            "6320                0.993593       0.340351       0.000000                 7   \n",
            "\n",
            "      Class  \n",
            "0         0  \n",
            "1         0  \n",
            "2         0  \n",
            "3         0  \n",
            "4         0  \n",
            "...     ...  \n",
            "6316      1  \n",
            "6317      0  \n",
            "6318      0  \n",
            "6319      0  \n",
            "6320      0  \n",
            "\n",
            "[6321 rows x 12 columns]\n"
          ]
        }
      ],
      "source": [
        "print(data)"
      ]
    },
    {
      "cell_type": "code",
      "execution_count": 47,
      "metadata": {
        "colab": {
          "base_uri": "https://localhost:8080/"
        },
        "id": "8dB2jjY_E_Xx",
        "outputId": "dcbdabdb-9cb9-42a2-f814-a7a3776e4e71"
      },
      "outputs": [
        {
          "output_type": "execute_result",
          "data": {
            "text/plain": [
              "(6321, 12)"
            ]
          },
          "metadata": {},
          "execution_count": 47
        }
      ],
      "source": [
        " data.shape"
      ]
    },
    {
      "cell_type": "code",
      "source": [
        "data.head()"
      ],
      "metadata": {
        "colab": {
          "base_uri": "https://localhost:8080/",
          "height": 270
        },
        "id": "6sFmY4kDiCvC",
        "outputId": "48fa54fc-ef46-4f2d-df0a-bfb56533926d"
      },
      "execution_count": 48,
      "outputs": [
        {
          "output_type": "execute_result",
          "data": {
            "text/plain": [
              "   Record_ID  Auction_ID  Bidder_Tendency  Bidding_Ratio  \\\n",
              "0          1         732         0.200000       0.400000   \n",
              "1          2         732         0.024390       0.200000   \n",
              "2          3         732         0.142857       0.200000   \n",
              "3          4         732         0.100000       0.200000   \n",
              "4          5         900         0.051282       0.222222   \n",
              "\n",
              "   Successive_Outbidding  Last_Bidding  Auction_Bids  Starting_Price_Average  \\\n",
              "0                    0.0      0.000028           0.0                0.993593   \n",
              "1                    0.0      0.013123           0.0                0.993593   \n",
              "2                    0.0      0.003042           0.0                0.993593   \n",
              "3                    0.0      0.097477           0.0                0.993593   \n",
              "4                    0.0      0.001318           0.0                0.000000   \n",
              "\n",
              "   Early_Bidding  Winning_Ratio  Auction_Duration  Class  \n",
              "0       0.000028       0.666667                 5      0  \n",
              "1       0.013123       0.944444                 5      0  \n",
              "2       0.003042       1.000000                 5      0  \n",
              "3       0.097477       1.000000                 5      0  \n",
              "4       0.001242       0.500000                 7      0  "
            ],
            "text/html": [
              "\n",
              "  <div id=\"df-e9d799a6-7662-41c1-bf39-22082cc834a8\">\n",
              "    <div class=\"colab-df-container\">\n",
              "      <div>\n",
              "<style scoped>\n",
              "    .dataframe tbody tr th:only-of-type {\n",
              "        vertical-align: middle;\n",
              "    }\n",
              "\n",
              "    .dataframe tbody tr th {\n",
              "        vertical-align: top;\n",
              "    }\n",
              "\n",
              "    .dataframe thead th {\n",
              "        text-align: right;\n",
              "    }\n",
              "</style>\n",
              "<table border=\"1\" class=\"dataframe\">\n",
              "  <thead>\n",
              "    <tr style=\"text-align: right;\">\n",
              "      <th></th>\n",
              "      <th>Record_ID</th>\n",
              "      <th>Auction_ID</th>\n",
              "      <th>Bidder_Tendency</th>\n",
              "      <th>Bidding_Ratio</th>\n",
              "      <th>Successive_Outbidding</th>\n",
              "      <th>Last_Bidding</th>\n",
              "      <th>Auction_Bids</th>\n",
              "      <th>Starting_Price_Average</th>\n",
              "      <th>Early_Bidding</th>\n",
              "      <th>Winning_Ratio</th>\n",
              "      <th>Auction_Duration</th>\n",
              "      <th>Class</th>\n",
              "    </tr>\n",
              "  </thead>\n",
              "  <tbody>\n",
              "    <tr>\n",
              "      <th>0</th>\n",
              "      <td>1</td>\n",
              "      <td>732</td>\n",
              "      <td>0.200000</td>\n",
              "      <td>0.400000</td>\n",
              "      <td>0.0</td>\n",
              "      <td>0.000028</td>\n",
              "      <td>0.0</td>\n",
              "      <td>0.993593</td>\n",
              "      <td>0.000028</td>\n",
              "      <td>0.666667</td>\n",
              "      <td>5</td>\n",
              "      <td>0</td>\n",
              "    </tr>\n",
              "    <tr>\n",
              "      <th>1</th>\n",
              "      <td>2</td>\n",
              "      <td>732</td>\n",
              "      <td>0.024390</td>\n",
              "      <td>0.200000</td>\n",
              "      <td>0.0</td>\n",
              "      <td>0.013123</td>\n",
              "      <td>0.0</td>\n",
              "      <td>0.993593</td>\n",
              "      <td>0.013123</td>\n",
              "      <td>0.944444</td>\n",
              "      <td>5</td>\n",
              "      <td>0</td>\n",
              "    </tr>\n",
              "    <tr>\n",
              "      <th>2</th>\n",
              "      <td>3</td>\n",
              "      <td>732</td>\n",
              "      <td>0.142857</td>\n",
              "      <td>0.200000</td>\n",
              "      <td>0.0</td>\n",
              "      <td>0.003042</td>\n",
              "      <td>0.0</td>\n",
              "      <td>0.993593</td>\n",
              "      <td>0.003042</td>\n",
              "      <td>1.000000</td>\n",
              "      <td>5</td>\n",
              "      <td>0</td>\n",
              "    </tr>\n",
              "    <tr>\n",
              "      <th>3</th>\n",
              "      <td>4</td>\n",
              "      <td>732</td>\n",
              "      <td>0.100000</td>\n",
              "      <td>0.200000</td>\n",
              "      <td>0.0</td>\n",
              "      <td>0.097477</td>\n",
              "      <td>0.0</td>\n",
              "      <td>0.993593</td>\n",
              "      <td>0.097477</td>\n",
              "      <td>1.000000</td>\n",
              "      <td>5</td>\n",
              "      <td>0</td>\n",
              "    </tr>\n",
              "    <tr>\n",
              "      <th>4</th>\n",
              "      <td>5</td>\n",
              "      <td>900</td>\n",
              "      <td>0.051282</td>\n",
              "      <td>0.222222</td>\n",
              "      <td>0.0</td>\n",
              "      <td>0.001318</td>\n",
              "      <td>0.0</td>\n",
              "      <td>0.000000</td>\n",
              "      <td>0.001242</td>\n",
              "      <td>0.500000</td>\n",
              "      <td>7</td>\n",
              "      <td>0</td>\n",
              "    </tr>\n",
              "  </tbody>\n",
              "</table>\n",
              "</div>\n",
              "      <button class=\"colab-df-convert\" onclick=\"convertToInteractive('df-e9d799a6-7662-41c1-bf39-22082cc834a8')\"\n",
              "              title=\"Convert this dataframe to an interactive table.\"\n",
              "              style=\"display:none;\">\n",
              "        \n",
              "  <svg xmlns=\"http://www.w3.org/2000/svg\" height=\"24px\"viewBox=\"0 0 24 24\"\n",
              "       width=\"24px\">\n",
              "    <path d=\"M0 0h24v24H0V0z\" fill=\"none\"/>\n",
              "    <path d=\"M18.56 5.44l.94 2.06.94-2.06 2.06-.94-2.06-.94-.94-2.06-.94 2.06-2.06.94zm-11 1L8.5 8.5l.94-2.06 2.06-.94-2.06-.94L8.5 2.5l-.94 2.06-2.06.94zm10 10l.94 2.06.94-2.06 2.06-.94-2.06-.94-.94-2.06-.94 2.06-2.06.94z\"/><path d=\"M17.41 7.96l-1.37-1.37c-.4-.4-.92-.59-1.43-.59-.52 0-1.04.2-1.43.59L10.3 9.45l-7.72 7.72c-.78.78-.78 2.05 0 2.83L4 21.41c.39.39.9.59 1.41.59.51 0 1.02-.2 1.41-.59l7.78-7.78 2.81-2.81c.8-.78.8-2.07 0-2.86zM5.41 20L4 18.59l7.72-7.72 1.47 1.35L5.41 20z\"/>\n",
              "  </svg>\n",
              "      </button>\n",
              "      \n",
              "  <style>\n",
              "    .colab-df-container {\n",
              "      display:flex;\n",
              "      flex-wrap:wrap;\n",
              "      gap: 12px;\n",
              "    }\n",
              "\n",
              "    .colab-df-convert {\n",
              "      background-color: #E8F0FE;\n",
              "      border: none;\n",
              "      border-radius: 50%;\n",
              "      cursor: pointer;\n",
              "      display: none;\n",
              "      fill: #1967D2;\n",
              "      height: 32px;\n",
              "      padding: 0 0 0 0;\n",
              "      width: 32px;\n",
              "    }\n",
              "\n",
              "    .colab-df-convert:hover {\n",
              "      background-color: #E2EBFA;\n",
              "      box-shadow: 0px 1px 2px rgba(60, 64, 67, 0.3), 0px 1px 3px 1px rgba(60, 64, 67, 0.15);\n",
              "      fill: #174EA6;\n",
              "    }\n",
              "\n",
              "    [theme=dark] .colab-df-convert {\n",
              "      background-color: #3B4455;\n",
              "      fill: #D2E3FC;\n",
              "    }\n",
              "\n",
              "    [theme=dark] .colab-df-convert:hover {\n",
              "      background-color: #434B5C;\n",
              "      box-shadow: 0px 1px 3px 1px rgba(0, 0, 0, 0.15);\n",
              "      filter: drop-shadow(0px 1px 2px rgba(0, 0, 0, 0.3));\n",
              "      fill: #FFFFFF;\n",
              "    }\n",
              "  </style>\n",
              "\n",
              "      <script>\n",
              "        const buttonEl =\n",
              "          document.querySelector('#df-e9d799a6-7662-41c1-bf39-22082cc834a8 button.colab-df-convert');\n",
              "        buttonEl.style.display =\n",
              "          google.colab.kernel.accessAllowed ? 'block' : 'none';\n",
              "\n",
              "        async function convertToInteractive(key) {\n",
              "          const element = document.querySelector('#df-e9d799a6-7662-41c1-bf39-22082cc834a8');\n",
              "          const dataTable =\n",
              "            await google.colab.kernel.invokeFunction('convertToInteractive',\n",
              "                                                     [key], {});\n",
              "          if (!dataTable) return;\n",
              "\n",
              "          const docLinkHtml = 'Like what you see? Visit the ' +\n",
              "            '<a target=\"_blank\" href=https://colab.research.google.com/notebooks/data_table.ipynb>data table notebook</a>'\n",
              "            + ' to learn more about interactive tables.';\n",
              "          element.innerHTML = '';\n",
              "          dataTable['output_type'] = 'display_data';\n",
              "          await google.colab.output.renderOutput(dataTable, element);\n",
              "          const docLink = document.createElement('div');\n",
              "          docLink.innerHTML = docLinkHtml;\n",
              "          element.appendChild(docLink);\n",
              "        }\n",
              "      </script>\n",
              "    </div>\n",
              "  </div>\n",
              "  "
            ]
          },
          "metadata": {},
          "execution_count": 48
        }
      ]
    },
    {
      "cell_type": "code",
      "source": [
        "#check missing values in the data\n",
        "data.isnull().sum()"
      ],
      "metadata": {
        "colab": {
          "base_uri": "https://localhost:8080/"
        },
        "id": "vZtgCEE4iIOc",
        "outputId": "f85ddd6d-038f-4f37-a4e0-3b90121e3a04"
      },
      "execution_count": 49,
      "outputs": [
        {
          "output_type": "execute_result",
          "data": {
            "text/plain": [
              "Record_ID                 0\n",
              "Auction_ID                0\n",
              "Bidder_Tendency           0\n",
              "Bidding_Ratio             0\n",
              "Successive_Outbidding     0\n",
              "Last_Bidding              0\n",
              "Auction_Bids              0\n",
              "Starting_Price_Average    0\n",
              "Early_Bidding             0\n",
              "Winning_Ratio             0\n",
              "Auction_Duration          0\n",
              "Class                     0\n",
              "dtype: int64"
            ]
          },
          "metadata": {},
          "execution_count": 49
        }
      ]
    },
    {
      "cell_type": "code",
      "source": [
        "#seperate independent and dependent variables\n",
        "y=data['Class']\n",
        "X=data.drop(['Class'],axis=1)"
      ],
      "metadata": {
        "id": "gt9JG632iVTW"
      },
      "execution_count": 50,
      "outputs": []
    },
    {
      "cell_type": "code",
      "source": [
        "#importing train test split to create vadidation set \n",
        "from sklearn.model_selection import train_test_split"
      ],
      "metadata": {
        "id": "n5Ld3Ox9i-HI"
      },
      "execution_count": 51,
      "outputs": []
    },
    {
      "cell_type": "code",
      "source": [
        "#creating the train and validation set\n",
        "X_train, X_valid, y_train, y_valid = train_test_split(X, y, random_state = 101, stratify=y, test_size=0.25) \n"
      ],
      "metadata": {
        "id": "lqEhdgW1jRtt"
      },
      "execution_count": 52,
      "outputs": []
    },
    {
      "cell_type": "code",
      "source": [
        "#distribution in training set\n",
        "y_train.value_counts(normalize=True)"
      ],
      "metadata": {
        "colab": {
          "base_uri": "https://localhost:8080/"
        },
        "id": "Q3E-xH2FknFr",
        "outputId": "6692395a-b278-475a-e1ab-3f3cc52aaa41"
      },
      "execution_count": 53,
      "outputs": [
        {
          "output_type": "execute_result",
          "data": {
            "text/plain": [
              "0    0.893249\n",
              "1    0.106751\n",
              "Name: Class, dtype: float64"
            ]
          },
          "metadata": {},
          "execution_count": 53
        }
      ]
    },
    {
      "cell_type": "code",
      "source": [
        "#distribution in validation set\n",
        "y_valid.value_counts(normalize=True)"
      ],
      "metadata": {
        "colab": {
          "base_uri": "https://localhost:8080/"
        },
        "id": "kRKXro59k60G",
        "outputId": "5ac7997b-25d2-4745-d198-7e50d8894ea2"
      },
      "execution_count": 54,
      "outputs": [
        {
          "output_type": "execute_result",
          "data": {
            "text/plain": [
              "0    0.893106\n",
              "1    0.106894\n",
              "Name: Class, dtype: float64"
            ]
          },
          "metadata": {},
          "execution_count": 54
        }
      ]
    },
    {
      "cell_type": "code",
      "source": [
        "#shape of training set\n",
        "X_train.shape, y_train.shape"
      ],
      "metadata": {
        "colab": {
          "base_uri": "https://localhost:8080/"
        },
        "id": "J8MZA523lEjT",
        "outputId": "23d54e41-dea0-4201-dd73-043bbf7cb95d"
      },
      "execution_count": 55,
      "outputs": [
        {
          "output_type": "execute_result",
          "data": {
            "text/plain": [
              "((4740, 11), (4740,))"
            ]
          },
          "metadata": {},
          "execution_count": 55
        }
      ]
    },
    {
      "cell_type": "code",
      "source": [
        "#shape of validation set\n",
        "X_valid.shape, y_valid.shape"
      ],
      "metadata": {
        "colab": {
          "base_uri": "https://localhost:8080/"
        },
        "id": "Ze8tlSw3lf-r",
        "outputId": "564e32df-dcc4-475d-9db8-f6805686399a"
      },
      "execution_count": 56,
      "outputs": [
        {
          "output_type": "execute_result",
          "data": {
            "text/plain": [
              "((1581, 11), (1581,))"
            ]
          },
          "metadata": {},
          "execution_count": 56
        }
      ]
    },
    {
      "cell_type": "code",
      "source": [
        "#importimg decision tree classifier\n",
        "from sklearn.tree import DecisionTreeClassifier"
      ],
      "metadata": {
        "id": "scaFmrHilmnU"
      },
      "execution_count": 57,
      "outputs": []
    },
    {
      "cell_type": "code",
      "source": [
        "#importimg decision tree regressor\n",
        "from sklearn.tree import DecisionTreeRegressor"
      ],
      "metadata": {
        "id": "9hShlftIl4P7"
      },
      "execution_count": 58,
      "outputs": []
    },
    {
      "cell_type": "code",
      "source": [
        "#creating the decision tree function\n",
        "dt_model = DecisionTreeClassifier(random_state=10)"
      ],
      "metadata": {
        "id": "eFADWhgJmFfw"
      },
      "execution_count": 32,
      "outputs": []
    },
    {
      "cell_type": "code",
      "source": [
        "#fitting the model\n",
        "dt_model.fit(X_train , y_train)"
      ],
      "metadata": {
        "colab": {
          "base_uri": "https://localhost:8080/"
        },
        "id": "B-XSZW40mgYm",
        "outputId": "a86ec32d-64ff-47d0-a23f-bbdea6e393d1"
      },
      "execution_count": 33,
      "outputs": [
        {
          "output_type": "execute_result",
          "data": {
            "text/plain": [
              "DecisionTreeClassifier(random_state=10)"
            ]
          },
          "metadata": {},
          "execution_count": 33
        }
      ]
    },
    {
      "cell_type": "code",
      "source": [
        "#checking the training score\n",
        "dt_model.score(X_train, y_train)"
      ],
      "metadata": {
        "colab": {
          "base_uri": "https://localhost:8080/"
        },
        "id": "uu1FHNsRm0mv",
        "outputId": "c4c57d5f-010e-4689-fd3f-23a0b282a833"
      },
      "execution_count": 35,
      "outputs": [
        {
          "output_type": "execute_result",
          "data": {
            "text/plain": [
              "1.0"
            ]
          },
          "metadata": {},
          "execution_count": 35
        }
      ]
    },
    {
      "cell_type": "code",
      "source": [
        "#checking the validation score\n",
        "dt_model.score(X_valid, y_valid)"
      ],
      "metadata": {
        "colab": {
          "base_uri": "https://localhost:8080/"
        },
        "id": "rbq_dADdnGZg",
        "outputId": "e0cc9858-11f9-4cc4-c07c-a2892a8d98db"
      },
      "execution_count": 36,
      "outputs": [
        {
          "output_type": "execute_result",
          "data": {
            "text/plain": [
              "0.9968374446552815"
            ]
          },
          "metadata": {},
          "execution_count": 36
        }
      ]
    },
    {
      "cell_type": "code",
      "source": [
        "#predictions on validation set\n",
        "dt_model.predict(X_valid)"
      ],
      "metadata": {
        "colab": {
          "base_uri": "https://localhost:8080/"
        },
        "id": "jWPgUBR3nacs",
        "outputId": "43652ce8-b19a-40de-f5d3-b289920d8399"
      },
      "execution_count": 38,
      "outputs": [
        {
          "output_type": "execute_result",
          "data": {
            "text/plain": [
              "array([0, 1, 1, ..., 0, 1, 0])"
            ]
          },
          "metadata": {},
          "execution_count": 38
        }
      ]
    },
    {
      "cell_type": "code",
      "source": [
        "dt_model.predict_proba(X_valid)"
      ],
      "metadata": {
        "colab": {
          "base_uri": "https://localhost:8080/"
        },
        "id": "aKcUnbXenzeA",
        "outputId": "02b1b748-557b-4c74-94c5-92c1b6f36d33"
      },
      "execution_count": 41,
      "outputs": [
        {
          "output_type": "execute_result",
          "data": {
            "text/plain": [
              "array([[1., 0.],\n",
              "       [0., 1.],\n",
              "       [0., 1.],\n",
              "       ...,\n",
              "       [1., 0.],\n",
              "       [0., 1.],\n",
              "       [1., 0.]])"
            ]
          },
          "metadata": {},
          "execution_count": 41
        }
      ]
    },
    {
      "cell_type": "code",
      "source": [
        "y_pred = dt_model.predict_proba(X_valid) [:,1]"
      ],
      "metadata": {
        "id": "Jrswf4ZMoIJH"
      },
      "execution_count": 63,
      "outputs": []
    },
    {
      "cell_type": "code",
      "source": [
        "new_y = []\n",
        "for i in range(len(y_pred)):\n",
        "    if y_pred[i] < 0.4:\n",
        "       new_y.append(0)\n",
        "    else:\n",
        "       new_y.append(1) "
      ],
      "metadata": {
        "id": "sqmoQdEJo-Bb"
      },
      "execution_count": 67,
      "outputs": []
    },
    {
      "cell_type": "code",
      "source": [
        "from sklearn.metrics import accuracy_score"
      ],
      "metadata": {
        "id": "TsIs0GAqp63V"
      },
      "execution_count": 69,
      "outputs": []
    },
    {
      "cell_type": "code",
      "source": [
        "accuracy_score(y_valid, new_y)"
      ],
      "metadata": {
        "id": "tHC48-C_qGsm",
        "outputId": "8f89133d-7384-4f68-dbec-5f1daf585fdb",
        "colab": {
          "base_uri": "https://localhost:8080/"
        }
      },
      "execution_count": 70,
      "outputs": [
        {
          "output_type": "execute_result",
          "data": {
            "text/plain": [
              "0.9968374446552815"
            ]
          },
          "metadata": {},
          "execution_count": 70
        }
      ]
    },
    {
      "cell_type": "code",
      "source": [
        "train_accuracy = []\n",
        "validation_accuracy = []\n",
        "for depth in range(1,10):\n",
        "    dt_model = DecisionTreeClassifier(max_depth=depth, random_state=10)\n",
        "    dt_model.fit(X_train,y_train)\n",
        "    train_accuracy.append(dt_model.score(X_train, y_train))\n",
        "    validation_accuracy.append(dt_model.score(X_valid, y_valid))"
      ],
      "metadata": {
        "id": "AeIbU3TEqTac"
      },
      "execution_count": 71,
      "outputs": []
    },
    {
      "cell_type": "code",
      "source": [
        "frame = pd.DataFrame({'max_depth':range(1,10), 'train_acc':train_accuracy, 'valid_acc':validation_accuracy})\n",
        "frame.head()"
      ],
      "metadata": {
        "id": "RlrE1RCCrsy2",
        "outputId": "5258570e-72f9-430e-c8bd-a812d08b9ab5",
        "colab": {
          "base_uri": "https://localhost:8080/",
          "height": 206
        }
      },
      "execution_count": 72,
      "outputs": [
        {
          "output_type": "execute_result",
          "data": {
            "text/plain": [
              "   max_depth  train_acc  valid_acc\n",
              "0          1   0.973207   0.971537\n",
              "1          2   0.982068   0.981657\n",
              "2          3   0.982278   0.982290\n",
              "3          4   0.985443   0.987350\n",
              "4          5   0.995781   0.997470"
            ],
            "text/html": [
              "\n",
              "  <div id=\"df-b24b7a57-e749-4c4e-ba35-ebf31cf34e06\">\n",
              "    <div class=\"colab-df-container\">\n",
              "      <div>\n",
              "<style scoped>\n",
              "    .dataframe tbody tr th:only-of-type {\n",
              "        vertical-align: middle;\n",
              "    }\n",
              "\n",
              "    .dataframe tbody tr th {\n",
              "        vertical-align: top;\n",
              "    }\n",
              "\n",
              "    .dataframe thead th {\n",
              "        text-align: right;\n",
              "    }\n",
              "</style>\n",
              "<table border=\"1\" class=\"dataframe\">\n",
              "  <thead>\n",
              "    <tr style=\"text-align: right;\">\n",
              "      <th></th>\n",
              "      <th>max_depth</th>\n",
              "      <th>train_acc</th>\n",
              "      <th>valid_acc</th>\n",
              "    </tr>\n",
              "  </thead>\n",
              "  <tbody>\n",
              "    <tr>\n",
              "      <th>0</th>\n",
              "      <td>1</td>\n",
              "      <td>0.973207</td>\n",
              "      <td>0.971537</td>\n",
              "    </tr>\n",
              "    <tr>\n",
              "      <th>1</th>\n",
              "      <td>2</td>\n",
              "      <td>0.982068</td>\n",
              "      <td>0.981657</td>\n",
              "    </tr>\n",
              "    <tr>\n",
              "      <th>2</th>\n",
              "      <td>3</td>\n",
              "      <td>0.982278</td>\n",
              "      <td>0.982290</td>\n",
              "    </tr>\n",
              "    <tr>\n",
              "      <th>3</th>\n",
              "      <td>4</td>\n",
              "      <td>0.985443</td>\n",
              "      <td>0.987350</td>\n",
              "    </tr>\n",
              "    <tr>\n",
              "      <th>4</th>\n",
              "      <td>5</td>\n",
              "      <td>0.995781</td>\n",
              "      <td>0.997470</td>\n",
              "    </tr>\n",
              "  </tbody>\n",
              "</table>\n",
              "</div>\n",
              "      <button class=\"colab-df-convert\" onclick=\"convertToInteractive('df-b24b7a57-e749-4c4e-ba35-ebf31cf34e06')\"\n",
              "              title=\"Convert this dataframe to an interactive table.\"\n",
              "              style=\"display:none;\">\n",
              "        \n",
              "  <svg xmlns=\"http://www.w3.org/2000/svg\" height=\"24px\"viewBox=\"0 0 24 24\"\n",
              "       width=\"24px\">\n",
              "    <path d=\"M0 0h24v24H0V0z\" fill=\"none\"/>\n",
              "    <path d=\"M18.56 5.44l.94 2.06.94-2.06 2.06-.94-2.06-.94-.94-2.06-.94 2.06-2.06.94zm-11 1L8.5 8.5l.94-2.06 2.06-.94-2.06-.94L8.5 2.5l-.94 2.06-2.06.94zm10 10l.94 2.06.94-2.06 2.06-.94-2.06-.94-.94-2.06-.94 2.06-2.06.94z\"/><path d=\"M17.41 7.96l-1.37-1.37c-.4-.4-.92-.59-1.43-.59-.52 0-1.04.2-1.43.59L10.3 9.45l-7.72 7.72c-.78.78-.78 2.05 0 2.83L4 21.41c.39.39.9.59 1.41.59.51 0 1.02-.2 1.41-.59l7.78-7.78 2.81-2.81c.8-.78.8-2.07 0-2.86zM5.41 20L4 18.59l7.72-7.72 1.47 1.35L5.41 20z\"/>\n",
              "  </svg>\n",
              "      </button>\n",
              "      \n",
              "  <style>\n",
              "    .colab-df-container {\n",
              "      display:flex;\n",
              "      flex-wrap:wrap;\n",
              "      gap: 12px;\n",
              "    }\n",
              "\n",
              "    .colab-df-convert {\n",
              "      background-color: #E8F0FE;\n",
              "      border: none;\n",
              "      border-radius: 50%;\n",
              "      cursor: pointer;\n",
              "      display: none;\n",
              "      fill: #1967D2;\n",
              "      height: 32px;\n",
              "      padding: 0 0 0 0;\n",
              "      width: 32px;\n",
              "    }\n",
              "\n",
              "    .colab-df-convert:hover {\n",
              "      background-color: #E2EBFA;\n",
              "      box-shadow: 0px 1px 2px rgba(60, 64, 67, 0.3), 0px 1px 3px 1px rgba(60, 64, 67, 0.15);\n",
              "      fill: #174EA6;\n",
              "    }\n",
              "\n",
              "    [theme=dark] .colab-df-convert {\n",
              "      background-color: #3B4455;\n",
              "      fill: #D2E3FC;\n",
              "    }\n",
              "\n",
              "    [theme=dark] .colab-df-convert:hover {\n",
              "      background-color: #434B5C;\n",
              "      box-shadow: 0px 1px 3px 1px rgba(0, 0, 0, 0.15);\n",
              "      filter: drop-shadow(0px 1px 2px rgba(0, 0, 0, 0.3));\n",
              "      fill: #FFFFFF;\n",
              "    }\n",
              "  </style>\n",
              "\n",
              "      <script>\n",
              "        const buttonEl =\n",
              "          document.querySelector('#df-b24b7a57-e749-4c4e-ba35-ebf31cf34e06 button.colab-df-convert');\n",
              "        buttonEl.style.display =\n",
              "          google.colab.kernel.accessAllowed ? 'block' : 'none';\n",
              "\n",
              "        async function convertToInteractive(key) {\n",
              "          const element = document.querySelector('#df-b24b7a57-e749-4c4e-ba35-ebf31cf34e06');\n",
              "          const dataTable =\n",
              "            await google.colab.kernel.invokeFunction('convertToInteractive',\n",
              "                                                     [key], {});\n",
              "          if (!dataTable) return;\n",
              "\n",
              "          const docLinkHtml = 'Like what you see? Visit the ' +\n",
              "            '<a target=\"_blank\" href=https://colab.research.google.com/notebooks/data_table.ipynb>data table notebook</a>'\n",
              "            + ' to learn more about interactive tables.';\n",
              "          element.innerHTML = '';\n",
              "          dataTable['output_type'] = 'display_data';\n",
              "          await google.colab.output.renderOutput(dataTable, element);\n",
              "          const docLink = document.createElement('div');\n",
              "          docLink.innerHTML = docLinkHtml;\n",
              "          element.appendChild(docLink);\n",
              "        }\n",
              "      </script>\n",
              "    </div>\n",
              "  </div>\n",
              "  "
            ]
          },
          "metadata": {},
          "execution_count": 72
        }
      ]
    },
    {
      "cell_type": "code",
      "source": [
        "plt.figure(figsize=(12,6))\n",
        "plt.plot(frame['max_depth'], frame['train_acc'], marker='o')\n",
        "plt.plot(frame['max_depth'], frame['valid_acc'], marker='o')\n",
        "plt.xlabel('Depth of tree')\n",
        "plt.ylabel('performance')\n",
        "plt.legend()"
      ],
      "metadata": {
        "id": "X1_877XksLfO",
        "outputId": "07ec275c-f56c-479a-dfb9-edfa8b6bb0c5",
        "colab": {
          "base_uri": "https://localhost:8080/",
          "height": 422
        }
      },
      "execution_count": 73,
      "outputs": [
        {
          "output_type": "stream",
          "name": "stderr",
          "text": [
            "No handles with labels found to put in legend.\n"
          ]
        },
        {
          "output_type": "execute_result",
          "data": {
            "text/plain": [
              "<matplotlib.legend.Legend at 0x7f18a524c5d0>"
            ]
          },
          "metadata": {},
          "execution_count": 73
        },
        {
          "output_type": "display_data",
          "data": {
            "text/plain": [
              "<Figure size 864x432 with 1 Axes>"
            ],
            "image/png": "[encoded data removed]"
          },
          "metadata": {
            "needs_background": "light"
          }
        }
      ]
    },
    {
      "cell_type": "code",
      "source": [
        "dt_model = DecisionTreeClassifier(max_depth=8, max_leaf_nodes=25, random_state=10)"
      ],
      "metadata": {
        "id": "MxbqIRphuiHK"
      },
      "execution_count": 74,
      "outputs": []
    },
    {
      "cell_type": "code",
      "source": [
        "#fitting the model\n",
        "dt_model.fit(X_train, y_train)"
      ],
      "metadata": {
        "id": "TaT8Ir4avXRG",
        "outputId": "9739616b-1c2a-4f49-f16c-edd0a3cd7122",
        "colab": {
          "base_uri": "https://localhost:8080/"
        }
      },
      "execution_count": 76,
      "outputs": [
        {
          "output_type": "execute_result",
          "data": {
            "text/plain": [
              "DecisionTreeClassifier(max_depth=8, max_leaf_nodes=25, random_state=10)"
            ]
          },
          "metadata": {},
          "execution_count": 76
        }
      ]
    },
    {
      "cell_type": "code",
      "source": [
        "#training score\n",
        "dt_model.score(X_train, y_train)"
      ],
      "metadata": {
        "id": "jy2ilGpKvqaY",
        "outputId": "ac014a4e-0716-47e3-f354-50c7d60b985b",
        "colab": {
          "base_uri": "https://localhost:8080/"
        }
      },
      "execution_count": 77,
      "outputs": [
        {
          "output_type": "execute_result",
          "data": {
            "text/plain": [
              "0.9995780590717299"
            ]
          },
          "metadata": {},
          "execution_count": 77
        }
      ]
    },
    {
      "cell_type": "code",
      "source": [
        "#validation score\n",
        "dt_model.score(X_valid, y_valid)"
      ],
      "metadata": {
        "id": "5TKfMS8Uv9hA",
        "outputId": "41993331-66a8-4118-c621-53130fe99b51",
        "colab": {
          "base_uri": "https://localhost:8080/"
        }
      },
      "execution_count": 78,
      "outputs": [
        {
          "output_type": "execute_result",
          "data": {
            "text/plain": [
              "1.0"
            ]
          },
          "metadata": {},
          "execution_count": 78
        }
      ]
    },
    {
      "cell_type": "code",
      "source": [
        "from sklearn import tree"
      ],
      "metadata": {
        "id": "k48QsyhqwKGK"
      },
      "execution_count": 79,
      "outputs": []
    },
    {
      "cell_type": "code",
      "source": [
        "!pip install graphviz"
      ],
      "metadata": {
        "id": "LGyg82_twPGF",
        "outputId": "e7068f31-282d-4c7d-a3b3-5869dc0d78e1",
        "colab": {
          "base_uri": "https://localhost:8080/"
        }
      },
      "execution_count": 80,
      "outputs": [
        {
          "output_type": "stream",
          "name": "stdout",
          "text": [
            "Requirement already satisfied: graphviz in /usr/local/lib/python3.7/dist-packages (0.10.1)\n"
          ]
        }
      ]
    },
    {
      "cell_type": "code",
      "source": [
        "decision_tree = tree.export_graphviz(dt_model,out_file='tree.dot',feature_names=X_train.columns,max_depth=2,filled=True)"
      ],
      "metadata": {
        "id": "hqI3kKkHwV9V"
      },
      "execution_count": 81,
      "outputs": []
    },
    {
      "cell_type": "code",
      "source": [
        "!dot =Tpng tree.dot =o tree.png"
      ],
      "metadata": {
        "id": "BL_hFH4Aw9Pz",
        "outputId": "c84e2bef-b9a5-4c7c-8d3b-9d4d52bb466c",
        "colab": {
          "base_uri": "https://localhost:8080/"
        }
      },
      "execution_count": 85,
      "outputs": [
        {
          "output_type": "stream",
          "name": "stdout",
          "text": [
            "Error: dot: can't open =Tpng\n",
            "digraph Tree {\n",
            "\tgraph [bb=\"0,0,765.5,348\"];\n",
            "\tnode [color=black,\n",
            "\t\tfontname=helvetica,\n",
            "\t\tlabel=\"\\N\",\n",
            "\t\tshape=box,\n",
            "\t\tstyle=filled\n",
            "\t];\n",
            "\tedge [fontname=helvetica];\n",
            "\t0\t [fillcolor=\"#e89051\",\n",
            "\t\theight=0.94444,\n",
            "\t\tlabel=\"Successive_Outbidding <= 0.25\\ngini = 0.191\\nsamples = 4740\\nvalue = [4234, 506]\",\n",
            "\t\tpos=\"329,314\",\n",
            "\t\twidth=3.0972];\n",
            "\t1\t [fillcolor=\"#e58139\",\n",
            "\t\theight=0.94444,\n",
            "\t\tlabel=\"Bidder_Tendency <= 0.938\\ngini = 0.0\\nsamples = 4109\\nvalue = [4108, 1]\",\n",
            "\t\tpos=\"229,210\",\n",
            "\t\twidth=2.6528];\n",
            "\t0 -> 1\t [head_lp=\"261.33,269.13\",\n",
            "\t\theadlabel=True,\n",
            "\t\tlabelangle=45,\n",
            "\t\tlabeldistance=2.5,\n",
            "\t\tpos=\"e,261.82,244.13 296.26,279.95 287.54,270.88 278.02,260.98 268.96,251.56\"];\n",
            "\t2\t [fillcolor=\"#6ab5eb\",\n",
            "\t\theight=0.94444,\n",
            "\t\tlabel=\"Winning_Ratio <= 0.167\\ngini = 0.32\\nsamples = 631\\nvalue = [126, 505]\",\n",
            "\t\tpos=\"429,210\",\n",
            "\t\twidth=2.3889];\n",
            "\t0 -> 2\t [head_lp=\"396.67,269.13\",\n",
            "\t\theadlabel=False,\n",
            "\t\tlabelangle=-45,\n",
            "\t\tlabeldistance=2.5,\n",
            "\t\tpos=\"e,396.18,244.13 361.74,279.95 370.46,270.88 379.98,260.98 389.04,251.56\"];\n",
            "\t35\t [fillcolor=\"#e58139\",\n",
            "\t\theight=0.73611,\n",
            "\t\tlabel=\"gini = 0.0\\nsamples = 4041\\nvalue = [4041, 0]\",\n",
            "\t\tpos=\"62,106\",\n",
            "\t\twidth=1.7222];\n",
            "\t1 -> 35\t [pos=\"e,104.62,132.54 174.32,175.95 154.68,163.72 132.63,149.98 113.29,137.94\"];\n",
            "\t36\t [fillcolor=\"#e5833c\",\n",
            "\t\theight=0.94444,\n",
            "\t\tlabel=\"Auction_Duration <= 8.5\\ngini = 0.029\\nsamples = 68\\nvalue = [67, 1]\",\n",
            "\t\tpos=\"229,106\",\n",
            "\t\twidth=2.4028];\n",
            "\t1 -> 36\t [pos=\"e,229,140.13 229,175.95 229,167.78 229,158.93 229,150.37\"];\n",
            "\t37\t [fillcolor=\"#C0C0C0\",\n",
            "\t\theight=0.5,\n",
            "\t\tlabel=\"(...)\",\n",
            "\t\tpos=\"193,18\",\n",
            "\t\twidth=0.75];\n",
            "\t36 -> 37\t [pos=\"e,200.44,36.192 215.08,71.977 211.5,63.217 207.69,53.899 204.26,45.516\"];\n",
            "\t38\t [fillcolor=\"#C0C0C0\",\n",
            "\t\theight=0.5,\n",
            "\t\tlabel=\"(...)\",\n",
            "\t\tpos=\"265,18\",\n",
            "\t\twidth=0.75];\n",
            "\t36 -> 38\t [pos=\"e,257.56,36.192 242.92,71.977 246.5,63.217 250.31,53.899 253.74,45.516\"];\n",
            "\t3\t [fillcolor=\"#e78c4a\",\n",
            "\t\theight=0.94444,\n",
            "\t\tlabel=\"Bidder_Tendency <= 0.667\\ngini = 0.147\\nsamples = 50\\nvalue = [46, 4]\",\n",
            "\t\tpos=\"429,106\",\n",
            "\t\twidth=2.6528];\n",
            "\t2 -> 3\t [pos=\"e,429,140.13 429,175.95 429,167.78 429,158.93 429,150.37\"];\n",
            "\t4\t [fillcolor=\"#59ade9\",\n",
            "\t\theight=0.94444,\n",
            "\t\tlabel=\"Successive_Outbidding <= 0.75\\ngini = 0.237\\nsamples = 581\\nvalue = [80, 501]\",\n",
            "\t\tpos=\"654,106\",\n",
            "\t\twidth=3.0972];\n",
            "\t2 -> 4\t [pos=\"e,580.16,140.13 502.67,175.95 524.53,165.85 548.61,154.72 571.01,144.36\"];\n",
            "\t19\t [fillcolor=\"#C0C0C0\",\n",
            "\t\theight=0.5,\n",
            "\t\tlabel=\"(...)\",\n",
            "\t\tpos=\"401,18\",\n",
            "\t\twidth=0.75];\n",
            "\t3 -> 19\t [pos=\"e,406.79,36.192 418.17,71.977 415.42,63.312 412.49,54.102 409.84,45.789\"];\n",
            "\t20\t [fillcolor=\"#C0C0C0\",\n",
            "\t\theight=0.5,\n",
            "\t\tlabel=\"(...)\",\n",
            "\t\tpos=\"473,18\",\n",
            "\t\twidth=0.75];\n",
            "\t3 -> 20\t [pos=\"e,463.9,36.192 446.01,71.977 450.44,63.121 455.15,53.697 459.38,45.243\"];\n",
            "\t5\t [fillcolor=\"#C0C0C0\",\n",
            "\t\theight=0.5,\n",
            "\t\tlabel=\"(...)\",\n",
            "\t\tpos=\"618,18\",\n",
            "\t\twidth=0.75];\n",
            "\t4 -> 5\t [pos=\"e,625.44,36.192 640.08,71.977 636.5,63.217 632.69,53.899 629.26,45.516\"];\n",
            "\t6\t [fillcolor=\"#C0C0C0\",\n",
            "\t\theight=0.5,\n",
            "\t\tlabel=\"(...)\",\n",
            "\t\tpos=\"690,18\",\n",
            "\t\twidth=0.75];\n",
            "\t4 -> 6\t [pos=\"e,682.56,36.192 667.92,71.977 671.5,63.217 675.31,53.899 678.74,45.516\"];\n",
            "}\n",
            "Error: dot: can't open =o\n",
            "Error: dot: can't open tree.png\n"
          ]
        }
      ]
    }
  ],
  "metadata": {
    "colab": {
      "name": "shill",
      "provenance": []
    },
    "kernelspec": {
      "display_name": "Python 3",
      "name": "python3"
    },
    "language_info": {
      "name": "python"
    }
  },
  "nbformat": 4,
  "nbformat_minor": 0
}